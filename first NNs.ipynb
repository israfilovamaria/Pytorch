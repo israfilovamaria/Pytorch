{
 "cells": [
  {
   "cell_type": "markdown",
   "id": "d2c036bb",
   "metadata": {},
   "source": [
    "# First basic NNs just for practice"
   ]
  },
  {
   "cell_type": "markdown",
   "id": "5fa8c086",
   "metadata": {},
   "source": [
    "### Creating NNs"
   ]
  },
  {
   "cell_type": "code",
   "execution_count": 202,
   "id": "5289d25c",
   "metadata": {},
   "outputs": [],
   "source": [
    "import torch \n",
    "import torch.nn as nn "
   ]
  },
  {
   "cell_type": "code",
   "execution_count": 203,
   "id": "9f3387b3",
   "metadata": {},
   "outputs": [],
   "source": [
    "first_net = nn.Sequential(\n",
    "    nn.Linear(700, 500),\n",
    "    nn.ReLU(),\n",
    "    nn.Linear(500, 200),\n",
    "    nn.ReLU(),\n",
    "    nn.Linear(200, 10)\n",
    ")"
   ]
  },
  {
   "cell_type": "code",
   "execution_count": 204,
   "id": "eb088f79",
   "metadata": {},
   "outputs": [
    {
     "data": {
      "text/plain": [
       "Sequential(\n",
       "  (0): Linear(in_features=700, out_features=500, bias=True)\n",
       "  (1): ReLU()\n",
       "  (2): Linear(in_features=500, out_features=200, bias=True)\n",
       "  (3): ReLU()\n",
       "  (4): Linear(in_features=200, out_features=10, bias=True)\n",
       ")"
      ]
     },
     "execution_count": 204,
     "metadata": {},
     "output_type": "execute_result"
    }
   ],
   "source": [
    "first_net"
   ]
  },
  {
   "cell_type": "code",
   "execution_count": 205,
   "id": "86313133",
   "metadata": {},
   "outputs": [
    {
     "data": {
      "text/plain": [
       "Linear(in_features=700, out_features=500, bias=True)"
      ]
     },
     "execution_count": 205,
     "metadata": {},
     "output_type": "execute_result"
    }
   ],
   "source": [
    "first_net[0]"
   ]
  },
  {
   "cell_type": "code",
   "execution_count": 206,
   "id": "a110e9ab",
   "metadata": {},
   "outputs": [],
   "source": [
    "class customed_net(nn.Module):\n",
    "    def __init__(self):\n",
    "        super().__init__()\n",
    "        self.linear1 = nn.Linear(700, 500)\n",
    "        self.linear2 = nn.Linear(500, 200)\n",
    "        self.linear3 = nn.Linear(200, 10)\n",
    "        self.activation = nn.ReLU()\n",
    "    def forward(self, x):\n",
    "        output = self.activation(self.linear1(x))\n",
    "        output = self.activation(self.linear2(output))\n",
    "        output = self.linear3(output)\n",
    "        return output"
   ]
  },
  {
   "cell_type": "code",
   "execution_count": 207,
   "id": "d1ae35eb",
   "metadata": {},
   "outputs": [],
   "source": [
    "second_net = customed_net()"
   ]
  },
  {
   "cell_type": "code",
   "execution_count": 208,
   "id": "31fed9fd",
   "metadata": {},
   "outputs": [
    {
     "data": {
      "text/plain": [
       "customed_net(\n",
       "  (linear1): Linear(in_features=700, out_features=500, bias=True)\n",
       "  (linear2): Linear(in_features=500, out_features=200, bias=True)\n",
       "  (linear3): Linear(in_features=200, out_features=10, bias=True)\n",
       "  (activation): ReLU()\n",
       ")"
      ]
     },
     "execution_count": 208,
     "metadata": {},
     "output_type": "execute_result"
    }
   ],
   "source": [
    "second_net"
   ]
  },
  {
   "cell_type": "markdown",
   "id": "48c2c782",
   "metadata": {},
   "source": [
    "### Training NNs"
   ]
  },
  {
   "cell_type": "code",
   "execution_count": 209,
   "id": "b5d48853",
   "metadata": {},
   "outputs": [],
   "source": [
    "class net(nn.Module):\n",
    "    def __init__(self):\n",
    "        super().__init__()\n",
    "        self.hidden_layer_first = nn.Linear(1, 300)\n",
    "        self.hidden_layer_last = nn.Linear(300, 1)\n",
    "        self.activation = nn.ReLU()\n",
    "    def forward(self, x):\n",
    "        output = self.activation(self.hidden_layer_first(x))\n",
    "        output = self.hidden_layer_last(output)\n",
    "        return output "
   ]
  },
  {
   "cell_type": "code",
   "execution_count": 210,
   "id": "9e8ae749",
   "metadata": {},
   "outputs": [],
   "source": [
    "net = net()"
   ]
  },
  {
   "cell_type": "code",
   "execution_count": 211,
   "id": "c86db7e2",
   "metadata": {},
   "outputs": [
    {
     "data": {
      "text/plain": [
       "net(\n",
       "  (hidden_layer_first): Linear(in_features=1, out_features=300, bias=True)\n",
       "  (hidden_layer_last): Linear(in_features=300, out_features=1, bias=True)\n",
       "  (activation): ReLU()\n",
       ")"
      ]
     },
     "execution_count": 211,
     "metadata": {},
     "output_type": "execute_result"
    }
   ],
   "source": [
    "net"
   ]
  },
  {
   "cell_type": "code",
   "execution_count": 212,
   "id": "9f5fa602",
   "metadata": {},
   "outputs": [],
   "source": [
    "from torch import optim "
   ]
  },
  {
   "cell_type": "code",
   "execution_count": 213,
   "id": "20846c0f",
   "metadata": {},
   "outputs": [],
   "source": [
    "loss = nn.MSELoss()"
   ]
  },
  {
   "cell_type": "code",
   "execution_count": 214,
   "id": "7a1fdec6",
   "metadata": {},
   "outputs": [],
   "source": [
    "import numpy as np"
   ]
  },
  {
   "cell_type": "code",
   "execution_count": 215,
   "id": "572eb518",
   "metadata": {},
   "outputs": [],
   "source": [
    "k = 5\n",
    "X = torch.tensor(np.arange(-100,100), dtype = torch.float32).unsqueeze(1)\n",
    "Y = X*X + 1000*torch.randn(200).unsqueeze(1)"
   ]
  },
  {
   "cell_type": "code",
   "execution_count": 216,
   "id": "c80cd4b1",
   "metadata": {},
   "outputs": [],
   "source": [
    "X = (X - X.min()) / (X.max() - X.min())\n",
    "Y = (Y - Y.min()) / (Y.max() - Y.min())"
   ]
  },
  {
   "cell_type": "code",
   "execution_count": 217,
   "id": "3afe1a13",
   "metadata": {},
   "outputs": [
    {
     "data": {
      "text/plain": [
       "<AxesSubplot:>"
      ]
     },
     "execution_count": 217,
     "metadata": {},
     "output_type": "execute_result"
    },
    {
     "data": {
      "image/png": "[encoded data removed]",
      "text/plain": [
       "<Figure size 432x288 with 1 Axes>"
      ]
     },
     "metadata": {},
     "output_type": "display_data"
    }
   ],
   "source": [
    "import seaborn as sns\n",
    "sns.set()\n",
    "sns.lineplot(x = X.squeeze(1), y = Y.squeeze(1))"
   ]
  },
  {
   "cell_type": "code",
   "execution_count": 218,
   "id": "a23e4e33",
   "metadata": {},
   "outputs": [],
   "source": [
    "from torch.utils.data import TensorDataset\n",
    "data = TensorDataset(X, Y)"
   ]
  },
  {
   "cell_type": "code",
   "execution_count": 219,
   "id": "a288757a",
   "metadata": {},
   "outputs": [],
   "source": [
    "optimiser = optim.Adam(net.parameters(), lr=1e-4)\n",
    "mse_loss = []\n",
    "for epoch in range(2000):\n",
    "    y_pred = net(X)\n",
    "    error = loss(Y, y_pred)\n",
    "    error.backward()\n",
    "    optimiser.step()\n",
    "    optimiser.zero_grad()\n",
    "    mse_loss.append(error)"
   ]
  },
  {
   "cell_type": "code",
   "execution_count": 220,
   "id": "70e41062",
   "metadata": {},
   "outputs": [
    {
     "data": {
      "text/plain": [
       "<AxesSubplot:>"
      ]
     },
     "execution_count": 220,
     "metadata": {},
     "output_type": "execute_result"
    },
    {
     "data": {
      "image/png": "[encoded data removed]",
      "text/plain": [
       "<Figure size 432x288 with 1 Axes>"
      ]
     },
     "metadata": {},
     "output_type": "display_data"
    }
   ],
   "source": [
    "import seaborn as sns\n",
    "sns.set()\n",
    "sns.lineplot( x = np.arange(2000), y = torch.tensor(mse_loss).detach().numpy())"
   ]
  },
  {
   "cell_type": "code",
   "execution_count": 221,
   "id": "bdd652ee",
   "metadata": {},
   "outputs": [],
   "source": [
    "y_pred = net(X)"
   ]
  },
  {
   "cell_type": "code",
   "execution_count": 222,
   "id": "60f5f9cf",
   "metadata": {},
   "outputs": [
    {
     "data": {
      "text/plain": [
       "<AxesSubplot:>"
      ]
     },
     "execution_count": 222,
     "metadata": {},
     "output_type": "execute_result"
    },
    {
     "data": {
      "image/png": "[encoded data removed]",
      "text/plain": [
       "<Figure size 432x288 with 1 Axes>"
      ]
     },
     "metadata": {},
     "output_type": "display_data"
    }
   ],
   "source": [
    "sns.lineplot(x = X.squeeze(1).detach(), y = y_pred.squeeze(1).detach())"
   ]
  },
  {
   "cell_type": "code",
   "execution_count": 223,
   "id": "ce2ed874",
   "metadata": {},
   "outputs": [],
   "source": [
    "class curve_net(nn.Module):\n",
    "    def __init__(self):\n",
    "        super().__init__()\n",
    "        self.hidden_layer_first = nn.Linear(1, 300)\n",
    "        self.hidden_layer_last = nn.Linear(300, 1)\n",
    "        self.activation = nn.Sigmoid()\n",
    "    def forward(self, x):\n",
    "        output = self.activation(self.hidden_layer_first(x))\n",
    "        output = self.hidden_layer_last(output)\n",
    "        return output "
   ]
  },
  {
   "cell_type": "code",
   "execution_count": 224,
   "id": "6265e484",
   "metadata": {},
   "outputs": [],
   "source": [
    "net = curve_net()"
   ]
  },
  {
   "cell_type": "code",
   "execution_count": 229,
   "id": "bcb111e7",
   "metadata": {},
   "outputs": [],
   "source": [
    "optimiser = optim.Adam(net.parameters(), lr=1e-5)\n",
    "mse_loss = []\n",
    "for epoch in range(1000):\n",
    "    y_pred = net(X)\n",
    "    error = loss(Y, y_pred)\n",
    "    error.backward()\n",
    "    optimiser.step()\n",
    "    optimiser.zero_grad()\n",
    "    mse_loss.append(error)"
   ]
  },
  {
   "cell_type": "code",
   "execution_count": 230,
   "id": "6e097aea",
   "metadata": {},
   "outputs": [
    {
     "name": "stderr",
     "output_type": "stream",
     "text": [
      "/Users/mariaisrafilova/opt/anaconda3/lib/python3.9/site-packages/seaborn/_decorators.py:36: FutureWarning: Pass the following variables as keyword args: x, y. From version 0.12, the only valid positional argument will be `data`, and passing other arguments without an explicit keyword will result in an error or misinterpretation.\n",
      "  warnings.warn(\n"
     ]
    },
    {
     "data": {
      "text/plain": [
       "<AxesSubplot:>"
      ]
     },
     "execution_count": 230,
     "metadata": {},
     "output_type": "execute_result"
    },
    {
     "data": {
      "image/png": "[encoded data removed]",
      "text/plain": [
       "<Figure size 432x288 with 1 Axes>"
      ]
     },
     "metadata": {},
     "output_type": "display_data"
    }
   ],
   "source": [
    "import seaborn as sns\n",
    "sns.set()\n",
    "sns.lineplot(np.arange(1000), torch.tensor(mse_loss).detach().numpy())"
   ]
  },
  {
   "cell_type": "code",
   "execution_count": 231,
   "id": "2f6131a5",
   "metadata": {},
   "outputs": [],
   "source": [
    "y_pred = net(X)"
   ]
  },
  {
   "cell_type": "code",
   "execution_count": 232,
   "id": "1f1f79f7",
   "metadata": {},
   "outputs": [
    {
     "data": {
      "text/plain": [
       "<AxesSubplot:>"
      ]
     },
     "execution_count": 232,
     "metadata": {},
     "output_type": "execute_result"
    },
    {
     "data": {
      "image/png": "[encoded data removed]",
      "text/plain": [
       "<Figure size 432x288 with 1 Axes>"
      ]
     },
     "metadata": {},
     "output_type": "display_data"
    }
   ],
   "source": [
    "sns.lineplot(x = X.squeeze(1).detach(), y = y_pred.squeeze(1).detach())"
   ]
  },
  {
   "cell_type": "code",
   "execution_count": null,
   "id": "8d8fde1c",
   "metadata": {},
   "outputs": [],
   "source": []
  }
 ],
 "metadata": {
  "kernelspec": {
   "display_name": "Python 3 (ipykernel)",
   "language": "python",
   "name": "python3"
  },
  "language_info": {
   "codemirror_mode": {
    "name": "ipython",
    "version": 3
   },
   "file_extension": ".py",
   "mimetype": "text/x-python",
   "name": "python",
   "nbconvert_exporter": "python",
   "pygments_lexer": "ipython3",
   "version": "3.9.7"
  }
 },
 "nbformat": 4,
 "nbformat_minor": 5
}
